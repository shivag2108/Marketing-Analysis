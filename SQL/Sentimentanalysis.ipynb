{
 "cells": [
  {
   "cell_type": "code",
   "execution_count": 33,
   "id": "18a7d2c3-864f-4c0d-b58f-c08dbbe843c0",
   "metadata": {},
   "outputs": [],
   "source": [
    "# -----------------------------------------------\n",
    "# Sentiment Analysis on Customer Reviews from SQL Server\n",
    "# -----------------------------------------------\n",
    "\n",
    "# Required Libraries\n",
    "import pandas as pd\n",
    "import pyodbc\n",
    "import nltk\n",
    "from nltk.sentiment.vader import SentimentIntensityAnalyzer"
   ]
  },
  {
   "cell_type": "code",
   "execution_count": 34,
   "id": "30a47599-d5db-43f8-9ed0-aab2ce142f7a",
   "metadata": {},
   "outputs": [
    {
     "name": "stderr",
     "output_type": "stream",
     "text": [
      "[nltk_data] Downloading package vader_lexicon to\n",
      "[nltk_data]     C:\\Users\\sivak\\AppData\\Roaming\\nltk_data...\n",
      "[nltk_data]   Package vader_lexicon is already up-to-date!\n"
     ]
    },
    {
     "data": {
      "text/plain": [
       "True"
      ]
     },
     "execution_count": 34,
     "metadata": {},
     "output_type": "execute_result"
    }
   ],
   "source": [
    "# Download VADER lexicon (Run once; comment out later if already downloaded)\n",
    "nltk.download('vader_lexicon')"
   ]
  },
  {
   "cell_type": "code",
   "execution_count": 35,
   "id": "294adb94-12e2-4654-b00f-d9fe82b655e5",
   "metadata": {},
   "outputs": [],
   "source": [
    "\n",
    "# -----------------------------------------------\n",
    "# 1. Fetch Data from SQL Server\n",
    "# -----------------------------------------------\n",
    "def fetch_data_from_sql():\n",
    "    \"\"\"\n",
    "    Connects to SQL Server using pyodbc and fetches customer reviews.\n",
    "    Returns a Pandas DataFrame.\n",
    "    \"\"\"\n",
    "\n",
    "    # Connection string (Windows Authentication)\n",
    "    conn_str = (\n",
    "        \"Driver={ODBC Driver 17 for SQL Server};\"\n",
    "        \"Server=LAPTOP-RLH88M33;\"  # Replace with <server>\\<instance> if needed\n",
    "        \"Database=PortfolioProject_MarketingAnalytics;\"\n",
    "        \"Trusted_Connection=yes;\"\n",
    "    )\n",
    "\n",
    "    try:\n",
    "        # Establish connection\n",
    "        conn = pyodbc.connect(conn_str)\n",
    "        print(\"✅ Connection successful!\")\n",
    "\n",
    "        # SQL query\n",
    "        query = \"\"\"\n",
    "            SELECT \n",
    "                ReviewID, \n",
    "                CustomerID, \n",
    "                ProductID, \n",
    "                ReviewDate, \n",
    "                Rating, \n",
    "                ReviewText \n",
    "            FROM dbo.customer_reviews\n",
    "        \"\"\"\n",
    "\n",
    "        # Load into Pandas DataFrame\n",
    "        df = pd.read_sql(query, conn)\n",
    "\n",
    "        # Close connection\n",
    "        conn.close()\n",
    "\n",
    "        return df\n",
    "\n",
    "    except Exception as e:\n",
    "        print(\"❌ Connection failed:\", e)\n",
    "        return None"
   ]
  },
  {
   "cell_type": "code",
   "execution_count": 36,
   "id": "eee9e339-affe-48c3-9818-d54e43b01c82",
   "metadata": {},
   "outputs": [],
   "source": [
    "\n",
    "# -----------------------------------------------\n",
    "# 2. Sentiment Analysis Setup\n",
    "# -----------------------------------------------\n",
    "# Initialize Sentiment Analyzer\n",
    "sia = SentimentIntensityAnalyzer()\n",
    "\n",
    "def calculate_sentiment(review_text):\n",
    "    \"\"\"\n",
    "    Calculate VADER sentiment compound score for a given review text.\n",
    "    \"\"\"\n",
    "    sentiment = sia.polarity_scores(str(review_text))  # Ensure string input\n",
    "    return sentiment['compound']\n",
    "\n",
    "\n",
    "def sentiment_bucket(score):\n",
    "    \"\"\"\n",
    "    Bucket sentiment score into ranges for analysis.\n",
    "    \"\"\"\n",
    "    if score >= 0.5:\n",
    "        return '0.5 to 1.0'\n",
    "    elif 0.0 <= score < 0.5:\n",
    "        return '0.0 to 0.49'\n",
    "    elif -0.5 <= score < 0.0:\n",
    "        return '-0.49 to 0.0'\n",
    "    else:\n",
    "        return '-1.0 to -0.5'\n",
    "\n",
    "\n",
    "def categorize_sentiment(score, rating):\n",
    "    \"\"\"\n",
    "    Categorize sentiment using both:\n",
    "      - VADER score\n",
    "      - Customer rating\n",
    "    \"\"\"\n",
    "    if score > 0.05:\n",
    "        if rating >= 4:\n",
    "            return 'Positive'\n",
    "        elif rating == 3:\n",
    "            return 'Mixed Positive'\n",
    "        else:\n",
    "            return 'Mixed Negative'\n",
    "    elif score < -0.05:\n",
    "        if rating <= 2:\n",
    "            return 'Negative'\n",
    "        elif rating == 3:\n",
    "            return 'Mixed Negative'\n",
    "        else:\n",
    "            return 'Mixed Positive'\n",
    "    else:\n",
    "        if rating >= 4:\n",
    "            return 'Positive'\n",
    "        elif rating <= 2:\n",
    "            return 'Negative'\n",
    "        else:\n",
    "            return 'Neutral'"
   ]
  },
  {
   "cell_type": "code",
   "execution_count": 37,
   "id": "81f5dd3c-8828-4e92-aa0a-69f634e45edc",
   "metadata": {},
   "outputs": [
    {
     "name": "stdout",
     "output_type": "stream",
     "text": [
      "✅ Connection successful!\n"
     ]
    },
    {
     "name": "stderr",
     "output_type": "stream",
     "text": [
      "C:\\Users\\sivak\\AppData\\Local\\Temp\\ipykernel_24704\\1977010513.py:36: UserWarning: pandas only supports SQLAlchemy connectable (engine/connection) or database string URI or sqlite3 DBAPI2 connection. Other DBAPI2 objects are not tested. Please consider using SQLAlchemy.\n",
      "  df = pd.read_sql(query, conn)\n"
     ]
    },
    {
     "name": "stdout",
     "output_type": "stream",
     "text": [
      "   ReviewID  CustomerID  ProductID  ReviewDate  Rating  \\\n",
      "0         1          77         18  2023-12-23       3   \n",
      "1         2          80         19  2024-12-25       5   \n",
      "2         3          50         13  2025-01-26       4   \n",
      "3         4          78         15  2025-04-21       3   \n",
      "4         5          64          2  2023-07-16       3   \n",
      "\n",
      "                                 ReviewText  SentimentScore SentimentCategory  \\\n",
      "0   Average  experience,  nothing  special.         -0.3089    Mixed Negative   \n",
      "1            The  quality  is    top-notch.          0.0000          Positive   \n",
      "2   Five  stars  for  the  quick  delivery.          0.0000          Positive   \n",
      "3  Good  quality,  but  could  be  cheaper.          0.2382    Mixed Positive   \n",
      "4   Average  experience,  nothing  special.         -0.3089    Mixed Negative   \n",
      "\n",
      "  SentimentBucket  \n",
      "0    -0.49 to 0.0  \n",
      "1     0.0 to 0.49  \n",
      "2     0.0 to 0.49  \n",
      "3     0.0 to 0.49  \n",
      "4    -0.49 to 0.0  \n",
      "💾 Results saved to 'dbo.customer_reviews_with_sentiment.csv'\n"
     ]
    }
   ],
   "source": [
    "\n",
    "# -----------------------------------------------\n",
    "# 3. Main Workflow\n",
    "# -----------------------------------------------\n",
    "if __name__ == \"__main__\":\n",
    "    # Fetch reviews\n",
    "    customer_reviews_df = fetch_data_from_sql()\n",
    "\n",
    "    if customer_reviews_df is not None:\n",
    "        # Apply Sentiment Analysis\n",
    "        customer_reviews_df['SentimentScore'] = customer_reviews_df['ReviewText'].apply(calculate_sentiment)\n",
    "        customer_reviews_df['SentimentCategory'] = customer_reviews_df.apply(\n",
    "            lambda row: categorize_sentiment(row['SentimentScore'], row['Rating']), axis=1\n",
    "        )\n",
    "        customer_reviews_df['SentimentBucket'] = customer_reviews_df['SentimentScore'].apply(sentiment_bucket)\n",
    "\n",
    "        # Show preview\n",
    "        print(customer_reviews_df.head())\n",
    "\n",
    "        # Save results\n",
    "        customer_reviews_df.to_csv('dbo.customer_reviews_with_sentiment.csv', index=False)\n",
    "        print(\"💾 Results saved to 'dbo.customer_reviews_with_sentiment.csv'\")\n"
   ]
  },
  {
   "cell_type": "code",
   "execution_count": null,
   "id": "6baeda9f-6ee0-4e1c-affb-728c97967141",
   "metadata": {},
   "outputs": [],
   "source": []
  },
  {
   "cell_type": "code",
   "execution_count": null,
   "id": "40d32d15-bc7e-4a78-bfbf-fe374461e177",
   "metadata": {},
   "outputs": [],
   "source": []
  }
 ],
 "metadata": {
  "kernelspec": {
   "display_name": "Python 3 (ipykernel)",
   "language": "python",
   "name": "python3"
  },
  "language_info": {
   "codemirror_mode": {
    "name": "ipython",
    "version": 3
   },
   "file_extension": ".py",
   "mimetype": "text/x-python",
   "name": "python",
   "nbconvert_exporter": "python",
   "pygments_lexer": "ipython3",
   "version": "3.13.5"
  }
 },
 "nbformat": 4,
 "nbformat_minor": 5
}
